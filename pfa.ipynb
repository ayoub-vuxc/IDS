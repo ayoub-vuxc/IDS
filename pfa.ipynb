{
 "cells": [
  {
   "cell_type": "code",
   "execution_count": 1,
   "id": "953c7fec-3286-49bd-87c4-3965852055e3",
   "metadata": {},
   "outputs": [],
   "source": [
    "import numpy as np\n",
    "import pandas as pd\n",
    "import matplotlib.pyplot as plt\n",
    "import glob\n",
    "import time\n",
    "import seaborn as sns\n",
    "\n",
    "from sklearn import preprocessing\n",
    "from sklearn.feature_selection import RFE\n",
    "from sklearn.model_selection import train_test_split # Import train_test_split function\n",
    "import joblib\n",
    "import warnings\n",
    "warnings.filterwarnings(\"ignore\")\n",
    "\n",
    "from sklearn.ensemble import RandomForestClassifier\n",
    "\n",
    "from sklearn import metrics\n",
    "from sklearn.metrics import accuracy_score\n",
    "from sklearn.metrics import confusion_matrix\n",
    "from sklearn.metrics import precision_recall_fscore_support as score\n",
    "from sklearn.metrics import completeness_score, homogeneity_score, v_measure_score"
   ]
  },
  {
   "cell_type": "code",
   "execution_count": 2,
   "id": "14d975d1-364a-4662-9b81-7249cd856376",
   "metadata": {},
   "outputs": [
    {
     "name": "stdout",
     "output_type": "stream",
     "text": [
      "cicids2017\\Friday-WorkingHours-Afternoon-DDos.pcap_ISCX.csv\n",
      "cicids2017\\Friday-WorkingHours-Afternoon-PortScan.pcap_ISCX.csv\n",
      "cicids2017\\Friday-WorkingHours-Morning.pcap_ISCX.csv\n",
      "cicids2017\\Monday-WorkingHours.pcap_ISCX.csv\n",
      "cicids2017\\Thursday-WorkingHours-Afternoon-Infilteration.pcap_ISCX.csv\n",
      "cicids2017\\Thursday-WorkingHours-Morning-WebAttacks.pcap_ISCX.csv\n",
      "cicids2017\\Tuesday-WorkingHours.pcap_ISCX.csv\n",
      "cicids2017\\Wednesday-workingHours.pcap_ISCX.csv\n"
     ]
    }
   ],
   "source": [
    "for name in glob.glob('cicids2017/*.csv'):\n",
    "    print(name)"
   ]
  },
  {
   "cell_type": "code",
   "execution_count": 4,
   "id": "e28fc2b3-63cb-42de-8152-8c20b26ab59f",
   "metadata": {},
   "outputs": [],
   "source": [
    "# Define the path to your directory containing the CSV files\n",
    "path = \"cicids2017\"\n",
    "\n",
    "# Get all CSV files in the specified directory\n",
    "all_files = glob.glob(path + \"/*.csv\")\n",
    "\n",
    "# Concatenate all CSV files into a single DataFrame with index reset\n",
    "dataset = pd.concat((pd.read_csv(f) for f in all_files), ignore_index=True)"
   ]
  },
  {
   "cell_type": "code",
   "execution_count": 5,
   "id": "6cf3a122-c860-4a01-9ddc-77fa2e0e168a",
   "metadata": {},
   "outputs": [
    {
     "data": {
      "text/plain": [
       "Index(['Destination Port', 'Flow Duration', 'Total Fwd Packets',\n",
       "       'Total Backward Packets', 'Total Length of Fwd Packets',\n",
       "       'Total Length of Bwd Packets', 'Fwd Packet Length Max',\n",
       "       'Fwd Packet Length Min', 'Fwd Packet Length Mean',\n",
       "       'Fwd Packet Length Std', 'Bwd Packet Length Max',\n",
       "       'Bwd Packet Length Min', 'Bwd Packet Length Mean',\n",
       "       'Bwd Packet Length Std', 'Flow Bytes/s', 'Flow Packets/s',\n",
       "       'Flow IAT Mean', 'Flow IAT Std', 'Flow IAT Max', 'Flow IAT Min',\n",
       "       'Fwd IAT Total', 'Fwd IAT Mean', 'Fwd IAT Std', 'Fwd IAT Max',\n",
       "       'Fwd IAT Min', 'Bwd IAT Total', 'Bwd IAT Mean', 'Bwd IAT Std',\n",
       "       'Bwd IAT Max', 'Bwd IAT Min', 'Fwd PSH Flags', 'Bwd PSH Flags',\n",
       "       'Fwd URG Flags', 'Bwd URG Flags', 'Fwd Header Length',\n",
       "       'Bwd Header Length', 'Fwd Packets/s', 'Bwd Packets/s',\n",
       "       'Min Packet Length', 'Max Packet Length', 'Packet Length Mean',\n",
       "       'Packet Length Std', 'Packet Length Variance', 'FIN Flag Count',\n",
       "       'SYN Flag Count', 'RST Flag Count', 'PSH Flag Count', 'ACK Flag Count',\n",
       "       'URG Flag Count', 'CWE Flag Count', 'ECE Flag Count', 'Down/Up Ratio',\n",
       "       'Average Packet Size', 'Avg Fwd Segment Size', 'Avg Bwd Segment Size',\n",
       "       'Fwd Header Length.1', 'Fwd Avg Bytes/Bulk', 'Fwd Avg Packets/Bulk',\n",
       "       'Fwd Avg Bulk Rate', 'Bwd Avg Bytes/Bulk', 'Bwd Avg Packets/Bulk',\n",
       "       'Bwd Avg Bulk Rate', 'Subflow Fwd Packets', 'Subflow Fwd Bytes',\n",
       "       'Subflow Bwd Packets', 'Subflow Bwd Bytes', 'Init_Win_bytes_forward',\n",
       "       'Init_Win_bytes_backward', 'act_data_pkt_fwd', 'min_seg_size_forward',\n",
       "       'Active Mean', 'Active Std', 'Active Max', 'Active Min', 'Idle Mean',\n",
       "       'Idle Std', 'Idle Max', 'Idle Min', 'Label'],\n",
       "      dtype='object')"
      ]
     },
     "execution_count": 5,
     "metadata": {},
     "output_type": "execute_result"
    }
   ],
   "source": [
    "dataset.columns = dataset.columns.str.strip()\n",
    "dataset.columns"
   ]
  },
  {
   "cell_type": "code",
   "execution_count": 6,
   "id": "662ca2e5-f558-4eb4-8142-3dc54ae5fd07",
   "metadata": {},
   "outputs": [
    {
     "data": {
      "text/plain": [
       "array([dtype('int64'), dtype('float64'), dtype('O')], dtype=object)"
      ]
     },
     "execution_count": 6,
     "metadata": {},
     "output_type": "execute_result"
    }
   ],
   "source": [
    "# check all the values are numerical\n",
    "# if not, would have to encode\n",
    "dataset.dtypes.unique()"
   ]
  },
  {
   "cell_type": "code",
   "execution_count": 7,
   "id": "976c8f70-f044-4bcf-ab99-6704e65f8612",
   "metadata": {},
   "outputs": [
    {
     "name": "stdout",
     "output_type": "stream",
     "text": [
      "Integer columns: Index(['Destination Port', 'Flow Duration', 'Total Fwd Packets',\n",
      "       'Total Backward Packets', 'Total Length of Fwd Packets',\n",
      "       'Total Length of Bwd Packets', 'Fwd Packet Length Max',\n",
      "       'Fwd Packet Length Min', 'Bwd Packet Length Max',\n",
      "       'Bwd Packet Length Min', 'Flow IAT Max', 'Flow IAT Min',\n",
      "       'Fwd IAT Total', 'Fwd IAT Max', 'Fwd IAT Min', 'Bwd IAT Total',\n",
      "       'Bwd IAT Max', 'Bwd IAT Min', 'Fwd PSH Flags', 'Bwd PSH Flags',\n",
      "       'Fwd URG Flags', 'Bwd URG Flags', 'Fwd Header Length',\n",
      "       'Bwd Header Length', 'Min Packet Length', 'Max Packet Length',\n",
      "       'FIN Flag Count', 'SYN Flag Count', 'RST Flag Count', 'PSH Flag Count',\n",
      "       'ACK Flag Count', 'URG Flag Count', 'CWE Flag Count', 'ECE Flag Count',\n",
      "       'Down/Up Ratio', 'Fwd Header Length.1', 'Fwd Avg Bytes/Bulk',\n",
      "       'Fwd Avg Packets/Bulk', 'Fwd Avg Bulk Rate', 'Bwd Avg Bytes/Bulk',\n",
      "       'Bwd Avg Packets/Bulk', 'Bwd Avg Bulk Rate', 'Subflow Fwd Packets',\n",
      "       'Subflow Fwd Bytes', 'Subflow Bwd Packets', 'Subflow Bwd Bytes',\n",
      "       'Init_Win_bytes_forward', 'Init_Win_bytes_backward', 'act_data_pkt_fwd',\n",
      "       'min_seg_size_forward', 'Active Max', 'Active Min', 'Idle Max',\n",
      "       'Idle Min'],\n",
      "      dtype='object')\n",
      "Float columns: Index(['Fwd Packet Length Mean', 'Fwd Packet Length Std',\n",
      "       'Bwd Packet Length Mean', 'Bwd Packet Length Std', 'Flow Bytes/s',\n",
      "       'Flow Packets/s', 'Flow IAT Mean', 'Flow IAT Std', 'Fwd IAT Mean',\n",
      "       'Fwd IAT Std', 'Bwd IAT Mean', 'Bwd IAT Std', 'Fwd Packets/s',\n",
      "       'Bwd Packets/s', 'Packet Length Mean', 'Packet Length Std',\n",
      "       'Packet Length Variance', 'Average Packet Size', 'Avg Fwd Segment Size',\n",
      "       'Avg Bwd Segment Size', 'Active Mean', 'Active Std', 'Idle Mean',\n",
      "       'Idle Std'],\n",
      "      dtype='object')\n",
      "Object columns: Index(['Label'], dtype='object')\n"
     ]
    }
   ],
   "source": [
    "# Get columns by data type\n",
    "int_cols = dataset.select_dtypes(include='int64').columns\n",
    "float_cols = dataset.select_dtypes(include='float64').columns\n",
    "object_cols = dataset.select_dtypes(include='O').columns\n",
    "\n",
    "# Print the column names for each type\n",
    "print(\"Integer columns:\", int_cols)\n",
    "print(\"Float columns:\", float_cols)\n",
    "print(\"Object columns:\", object_cols)"
   ]
  },
  {
   "cell_type": "code",
   "execution_count": 8,
   "id": "e8aa87c1-3029-4cc5-80a5-7e925c6600d2",
   "metadata": {},
   "outputs": [
    {
     "data": {
      "text/plain": [
       "array([False, False, False, False, False, False, False, False, False,\n",
       "       False, False, False, False, False, False, False, False, False,\n",
       "       False, False, False, False, False, False, False, False, False,\n",
       "       False, False, False, False, False, False, False, False, False,\n",
       "       False, False, False, False, False, False, False, False, False,\n",
       "       False, False, False, False, False, False, False, False, False,\n",
       "       False, False, False, False, False, False, False, False, False,\n",
       "       False, False, False, False, False, False, False, False, False,\n",
       "       False, False, False, False, False, False])"
      ]
     },
     "execution_count": 8,
     "metadata": {},
     "output_type": "execute_result"
    }
   ],
   "source": [
    "#drop 'Fwd Header Length.1' it repeated with different names\n",
    "\n",
    "dataset = dataset.drop(columns=['Fwd Header Length.1'])\n",
    "\n",
    "dataset.columns.duplicated()\n"
   ]
  },
  {
   "cell_type": "code",
   "execution_count": 9,
   "id": "70b00cbc-953d-4a05-844a-4c9462783c0d",
   "metadata": {},
   "outputs": [
    {
     "data": {
      "text/plain": [
       "np.True_"
      ]
     },
     "execution_count": 9,
     "metadata": {},
     "output_type": "execute_result"
    }
   ],
   "source": [
    "dataset.isnull().any().any()"
   ]
  },
  {
   "cell_type": "code",
   "execution_count": 10,
   "id": "e95bd30b-bd9f-4bd2-8333-ae39d33b8ad4",
   "metadata": {},
   "outputs": [
    {
     "data": {
      "text/plain": [
       "np.False_"
      ]
     },
     "execution_count": 10,
     "metadata": {},
     "output_type": "execute_result"
    }
   ],
   "source": [
    "# Remove rows with NaN, Null, or Inf values\n",
    "dataset = dataset.replace([np.inf, -np.inf], np.nan).dropna()\n",
    "\n",
    "# Reset the index after removing rows\n",
    "dataset = dataset.reset_index(drop=True)\n",
    "\n",
    "#double check\n",
    "dataset.isnull().any().any()"
   ]
  },
  {
   "cell_type": "code",
   "execution_count": 11,
   "id": "d033a867-2f5e-4cdd-b126-bc44f898b5e3",
   "metadata": {},
   "outputs": [
    {
     "data": {
      "text/plain": [
       "['Bwd PSH Flags',\n",
       " 'Bwd URG Flags',\n",
       " 'Fwd Avg Bytes/Bulk',\n",
       " 'Fwd Avg Packets/Bulk',\n",
       " 'Fwd Avg Bulk Rate',\n",
       " 'Bwd Avg Bytes/Bulk',\n",
       " 'Bwd Avg Packets/Bulk',\n",
       " 'Bwd Avg Bulk Rate']"
      ]
     },
     "execution_count": 11,
     "metadata": {},
     "output_type": "execute_result"
    }
   ],
   "source": [
    "col_names = dataset.columns\n",
    "# Initialize a list to store columns to drop\n",
    "to_drop = []\n",
    "\n",
    "# Iterate over each column\n",
    "for col in col_names:\n",
    "    # Check if the column has only one unique value\n",
    "    if dataset[col].nunique() == 1:\n",
    "        to_drop.append(col)\n",
    "\n",
    "to_drop"
   ]
  },
  {
   "cell_type": "code",
   "execution_count": 12,
   "id": "926e0780-23f2-4b38-a346-09ff952984ff",
   "metadata": {},
   "outputs": [],
   "source": [
    "dataset = dataset.drop(columns=to_drop)"
   ]
  },
  {
   "cell_type": "code",
   "execution_count": 13,
   "id": "3761ae04-814e-4da3-9ec5-24f62d5ccea9",
   "metadata": {},
   "outputs": [],
   "source": [
    "#remove unicode chars\n",
    "\n",
    "dataset.loc[dataset.Label == \"Web Attack � Brute Force\", ['Label']] = \"Web Brute Force\"\n",
    "dataset.loc[dataset.Label == \"Web Attack � XSS\", ['Label']] = \"XSS\"\n",
    "dataset.loc[dataset.Label == \"Web Attack � Sql Injection\", ['Label']] = \"Sql Injection\""
   ]
  },
  {
   "cell_type": "code",
   "execution_count": 14,
   "id": "797d25d0-4081-420b-860b-f186881553d2",
   "metadata": {},
   "outputs": [],
   "source": [
    "# Convert 'BENIGN' label to 0 and any other label to 1\n",
    "dataset['Binary_Label'] = dataset['Label'].apply(lambda x: 0 if x == 'BENIGN' else 1)"
   ]
  },
  {
   "cell_type": "code",
   "execution_count": 15,
   "id": "e1d28320-aece-44db-84f2-82800a6b8ea2",
   "metadata": {},
   "outputs": [
    {
     "name": "stdout",
     "output_type": "stream",
     "text": [
      "x_train shape: (2262300, 69)\n",
      "x_test shape: (565576, 69)\n",
      "y_train shape: (2262300, 2)\n",
      "y_test shape: (565576, 2)\n",
      "dataset shape: (2827876, 71)\n"
     ]
    }
   ],
   "source": [
    "from sklearn.model_selection import train_test_split\n",
    "\n",
    "# Three labeling options\n",
    "attacks = ['Label', 'Binary_Label']\n",
    "\n",
    "# Feature vectors (xs) and labels (ys)\n",
    "xs = dataset.drop(attacks, axis=1)\n",
    "ys = dataset[attacks]\n",
    "\n",
    "# Stratified split: 60% training, 20% testing, 20% validation\n",
    "x_train, x_test, y_train, y_test = train_test_split(xs, ys, test_size=0.2, random_state=0, stratify=ys['Label'])\n",
    "\n",
    "\n",
    "# Print the shapes of the splits to verify\n",
    "print(f\"x_train shape: {x_train.shape}\")\n",
    "print(f\"x_test shape: {x_test.shape}\")\n",
    "print(f\"y_train shape: {y_train.shape}\")\n",
    "print(f\"y_test shape: {y_test.shape}\")\n",
    "\n",
    "print(f\"dataset shape: {dataset.shape}\")"
   ]
  },
  {
   "cell_type": "code",
   "execution_count": 26,
   "id": "12c6551f-0a79-4faf-86a7-6621cc1c0c5c",
   "metadata": {},
   "outputs": [
    {
     "data": {
      "text/plain": [
       "count    1.560987e+08\n",
       "mean     8.702987e-02\n",
       "std      2.501023e-01\n",
       "min      0.000000e+00\n",
       "25%      0.000000e+00\n",
       "50%      7.773460e-07\n",
       "75%      6.410256e-03\n",
       "max      1.000000e+00\n",
       "dtype: float64"
      ]
     },
     "execution_count": 26,
     "metadata": {},
     "output_type": "execute_result"
    }
   ],
   "source": [
    "from sklearn.preprocessing import MinMaxScaler\n",
    "# Normalise\n",
    "min_max_scaler = MinMaxScaler().fit(x_train)\n",
    "joblib.dump(min_max_scaler, 'min_max_scaler.joblib')\n",
    "# Apply normalisation to dataset\n",
    "x_train = min_max_scaler.transform(x_train)\n",
    "x_test = min_max_scaler.transform(x_test)\n",
    "\n",
    "# All values between 0 and 1\n",
    "pd.Series(x_train.flatten()).describe()"
   ]
  },
  {
   "cell_type": "code",
   "execution_count": 40,
   "id": "0afbf839-ff86-42bd-864f-eed937942817",
   "metadata": {},
   "outputs": [],
   "source": [
    "from sklearn.ensemble import RandomForestClassifier\n",
    "# Initialize the RandomForestClassifier\n",
    "classifier= RandomForestClassifier(random_state=0)"
   ]
  },
  {
   "cell_type": "code",
   "execution_count": 41,
   "id": "acb5f0db-ac60-49cb-846f-0ac6f87c95c3",
   "metadata": {},
   "outputs": [],
   "source": [
    "# Fit the model and measure training time\n",
    "start = time.time()\n",
    "classifier.fit(x_train, y_train.Binary_Label)\n",
    "end = time.time()\n",
    "training_time = end - start\n",
    "\n"
   ]
  },
  {
   "cell_type": "code",
   "execution_count": 42,
   "id": "7ec1f5c6-5f76-4fa6-adc6-7814997c61b4",
   "metadata": {},
   "outputs": [
    {
     "name": "stdout",
     "output_type": "stream",
     "text": [
      "Training time: 640.9727 seconds\n",
      "Prediction time: 4.0931 seconds\n"
     ]
    }
   ],
   "source": [
    "# Predict on the validation set and measure prediction time\n",
    "start = time.time()\n",
    "y_predicted = classifier.predict(x_test)\n",
    "end = time.time()\n",
    "predict_time = end - start\n",
    "\n",
    "# Print the training and prediction times\n",
    "print(f\"Training time: {training_time:.4f} seconds\")\n",
    "print(f\"Prediction time: {predict_time:.4f} seconds\")"
   ]
  },
  {
   "cell_type": "code",
   "execution_count": 43,
   "id": "c1a79bb2-ccf5-425a-87d6-aa9e5d5e7a48",
   "metadata": {},
   "outputs": [
    {
     "data": {
      "image/png": "[encoded data removed]",
      "text/plain": [
       "<Figure size 800x600 with 1 Axes>"
      ]
     },
     "metadata": {},
     "output_type": "display_data"
    }
   ],
   "source": [
    "# Create a confusion matrix\n",
    "conf_matrix = confusion_matrix(y_test.Binary_Label, y_predicted)\n",
    "confusion_rf_3 = pd.DataFrame(conf_matrix, index=['Actual 0', 'Actual 1'], columns=['Predicted 0', 'Predicted 1'])\n",
    "\n",
    "# Plot confusion matrix\n",
    "plt.figure(figsize=(8, 6))\n",
    "sns.heatmap(confusion_rf_3, annot=True, fmt='d', cmap='Blues', cbar=False, linewidths=1, linecolor='black', annot_kws={'size': 12})\n",
    "plt.xlabel('Predicted Labels', fontsize=12)\n",
    "plt.ylabel('True Labels', fontsize=12)\n",
    "plt.title('Confusion Matrix - RandomForest Classifier', fontsize=14)\n",
    "plt.show()"
   ]
  },
  {
   "cell_type": "code",
   "execution_count": 44,
   "id": "a373af50-64a9-405b-ac33-a0752d8a3b10",
   "metadata": {},
   "outputs": [
    {
     "data": {
      "text/html": [
       "<div>\n",
       "<style scoped>\n",
       "    .dataframe tbody tr th:only-of-type {\n",
       "        vertical-align: middle;\n",
       "    }\n",
       "\n",
       "    .dataframe tbody tr th {\n",
       "        vertical-align: top;\n",
       "    }\n",
       "\n",
       "    .dataframe thead th {\n",
       "        text-align: right;\n",
       "    }\n",
       "</style>\n",
       "<table border=\"1\" class=\"dataframe\">\n",
       "  <thead>\n",
       "    <tr style=\"text-align: right;\">\n",
       "      <th></th>\n",
       "      <th>attack</th>\n",
       "      <th>precision</th>\n",
       "      <th>recall</th>\n",
       "      <th>fscore</th>\n",
       "      <th>support</th>\n",
       "    </tr>\n",
       "  </thead>\n",
       "  <tbody>\n",
       "    <tr>\n",
       "      <th>0</th>\n",
       "      <td>0</td>\n",
       "      <td>0.999240</td>\n",
       "      <td>0.999128</td>\n",
       "      <td>0.999184</td>\n",
       "      <td>454265</td>\n",
       "    </tr>\n",
       "    <tr>\n",
       "      <th>1</th>\n",
       "      <td>1</td>\n",
       "      <td>0.996444</td>\n",
       "      <td>0.996901</td>\n",
       "      <td>0.996672</td>\n",
       "      <td>111311</td>\n",
       "    </tr>\n",
       "  </tbody>\n",
       "</table>\n",
       "</div>"
      ],
      "text/plain": [
       "   attack  precision    recall    fscore  support\n",
       "0       0   0.999240  0.999128  0.999184   454265\n",
       "1       1   0.996444  0.996901  0.996672   111311"
      ]
     },
     "execution_count": 44,
     "metadata": {},
     "output_type": "execute_result"
    }
   ],
   "source": [
    "precision, recall, fscore, support = score(y_test.Binary_Label, y_predicted)\n",
    "d = {'attack': [0,1], 'precision': precision, 'recall' : recall, 'fscore': fscore, 'support':support}\n",
    "results = pd.DataFrame(data=d)\n",
    "results"
   ]
  },
  {
   "cell_type": "code",
   "execution_count": 50,
   "id": "adc4e13e-46bb-4b11-90c3-9f9884b397d2",
   "metadata": {},
   "outputs": [
    {
     "data": {
      "text/plain": [
       "['random_forest_model.pkl']"
      ]
     },
     "execution_count": 50,
     "metadata": {},
     "output_type": "execute_result"
    }
   ],
   "source": [
    "joblib.dump(classifier, 'random_forest_model.pkl')"
   ]
  },
  {
   "cell_type": "code",
   "execution_count": 45,
   "id": "e9d4d123-f76c-44e9-b012-98700a9a6066",
   "metadata": {},
   "outputs": [],
   "source": [
    "df = pd.read_csv('cicids2017/Friday-WorkingHours-Afternoon-PortScan.pcap_ISCX.csv')\n",
    "\n",
    "df.columns = df.columns.str.strip()\n",
    "df = df.drop(columns=['Fwd Header Length.1'])\n",
    "\n",
    "dataset['Binary_Label'] = dataset['Label'].apply(lambda x: 0 if x == 'BENIGN' else 1)\n",
    "\n",
    "# Three labeling options\n",
    "attacks = ['Label', 'Binary_Label']\n",
    "\n",
    "\n",
    "# Remove rows with NaN, Null, or Inf values\n",
    "df = df.replace([np.inf, -np.inf], np.nan).dropna()\n",
    "\n",
    "# Reset the index after removing rows\n",
    "df = df.reset_index(drop=True)\n",
    "\n",
    "\n",
    "# Feature vectors (xs) and labels (ys)\n",
    "xs = dataset.drop(attacks, axis=1)\n",
    "ys = dataset[attacks]\n",
    "\n",
    "\n",
    "scaler = MinMaxScaler()\n",
    "xs = scaler.fit_transform(xs)\n"
   ]
  },
  {
   "cell_type": "code",
   "execution_count": 46,
   "id": "eb99ccdb-7191-43a9-8bf5-5e6f5f08bd6d",
   "metadata": {},
   "outputs": [
    {
     "name": "stdout",
     "output_type": "stream",
     "text": [
      "Prediction time: 16.8116 seconds\n"
     ]
    }
   ],
   "source": [
    "# Predict on the validation set and measure prediction time\n",
    "start = time.time()\n",
    "y_predicted = classifier.predict(xs)\n",
    "end = time.time()\n",
    "predict_time = end - start\n",
    "\n",
    "\n",
    "print(f\"Prediction time: {predict_time:.4f} seconds\")"
   ]
  },
  {
   "cell_type": "code",
   "execution_count": 47,
   "id": "42f20c19-3241-429d-a77e-0ac69df209f6",
   "metadata": {},
   "outputs": [
    {
     "data": {
      "text/html": [
       "<div>\n",
       "<style scoped>\n",
       "    .dataframe tbody tr th:only-of-type {\n",
       "        vertical-align: middle;\n",
       "    }\n",
       "\n",
       "    .dataframe tbody tr th {\n",
       "        vertical-align: top;\n",
       "    }\n",
       "\n",
       "    .dataframe thead th {\n",
       "        text-align: right;\n",
       "    }\n",
       "</style>\n",
       "<table border=\"1\" class=\"dataframe\">\n",
       "  <thead>\n",
       "    <tr style=\"text-align: right;\">\n",
       "      <th></th>\n",
       "      <th>attack</th>\n",
       "      <th>precision</th>\n",
       "      <th>recall</th>\n",
       "      <th>fscore</th>\n",
       "      <th>support</th>\n",
       "    </tr>\n",
       "  </thead>\n",
       "  <tbody>\n",
       "    <tr>\n",
       "      <th>0</th>\n",
       "      <td>0</td>\n",
       "      <td>0.998923</td>\n",
       "      <td>0.999265</td>\n",
       "      <td>0.999094</td>\n",
       "      <td>2271320</td>\n",
       "    </tr>\n",
       "    <tr>\n",
       "      <th>1</th>\n",
       "      <td>1</td>\n",
       "      <td>0.996995</td>\n",
       "      <td>0.995602</td>\n",
       "      <td>0.996298</td>\n",
       "      <td>556556</td>\n",
       "    </tr>\n",
       "  </tbody>\n",
       "</table>\n",
       "</div>"
      ],
      "text/plain": [
       "   attack  precision    recall    fscore  support\n",
       "0       0   0.998923  0.999265  0.999094  2271320\n",
       "1       1   0.996995  0.995602  0.996298   556556"
      ]
     },
     "execution_count": 47,
     "metadata": {},
     "output_type": "execute_result"
    }
   ],
   "source": [
    "precision, recall, fscore, support = score(ys.Binary_Label, y_predicted)\n",
    "d = {'attack': [0,1], 'precision': precision, 'recall' : recall, 'fscore': fscore, 'support':support}\n",
    "results = pd.DataFrame(data=d)\n",
    "results"
   ]
  },
  {
   "cell_type": "code",
   "execution_count": 49,
   "id": "10b2e4c0-cb5d-4fa9-a675-6131483fed05",
   "metadata": {},
   "outputs": [
    {
     "data": {
      "image/png": "[encoded data removed]",
      "text/plain": [
       "<Figure size 800x600 with 1 Axes>"
      ]
     },
     "metadata": {},
     "output_type": "display_data"
    }
   ],
   "source": [
    "# Create a confusion matrix\n",
    "conf_matrix = confusion_matrix(ys.Binary_Label, y_predicted)\n",
    "confusion_rf_3 = pd.DataFrame(conf_matrix, index=['Actual 0', 'Actual 1'], columns=['Predicted 0', 'Predicted 1'])\n",
    "\n",
    "# Plot confusion matrix\n",
    "plt.figure(figsize=(8, 6))\n",
    "sns.heatmap(confusion_rf_3, annot=True, fmt='d', cmap='Blues', cbar=False, linewidths=1, linecolor='black', annot_kws={'size': 12})\n",
    "plt.xlabel('Predicted Labels', fontsize=12)\n",
    "plt.ylabel('True Labels', fontsize=12)\n",
    "plt.title('Confusion Matrix - RandomForest Classifier', fontsize=14)\n",
    "plt.show()"
   ]
  }
 ],
 "metadata": {
  "kernelspec": {
   "display_name": "Python 3 (ipykernel)",
   "language": "python",
   "name": "python3"
  },
  "language_info": {
   "codemirror_mode": {
    "name": "ipython",
    "version": 3
   },
   "file_extension": ".py",
   "mimetype": "text/x-python",
   "name": "python",
   "nbconvert_exporter": "python",
   "pygments_lexer": "ipython3",
   "version": "3.11.2"
  }
 },
 "nbformat": 4,
 "nbformat_minor": 5
}
